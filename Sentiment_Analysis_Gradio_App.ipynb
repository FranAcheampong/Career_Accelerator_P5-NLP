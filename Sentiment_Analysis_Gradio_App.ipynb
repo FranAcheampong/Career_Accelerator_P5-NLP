{
 "cells": [
  {
   "cell_type": "code",
   "execution_count": null,
   "id": "d7fd31ed",
   "metadata": {},
   "outputs": [],
   "source": [
    "# Installing Gradio\n",
    "!pip install gradio transformers -q"
   ]
  },
  {
   "cell_type": "code",
   "execution_count": 1,
   "id": "e30ab659",
   "metadata": {},
   "outputs": [],
   "source": [
    "# Import the required Libraries\n",
    "import gradio as gr\n",
    "import numpy as np\n",
    "import pandas as pd\n",
    "import pickle\n",
    "import transformers\n",
    "from transformers import AutoTokenizer \n",
    "from transformers import AutoConfig\n",
    "from transformers import AutoModelForSequenceClassification\n",
    "from transformers import TFAutoModelForSequenceClassification\n",
    "from transformers import pipeline\n",
    "from scipy.special import softmax\n"
   ]
  },
  {
   "cell_type": "code",
   "execution_count": 9,
   "id": "ed339e5e",
   "metadata": {
    "scrolled": true
   },
   "outputs": [
    {
     "data": {
      "application/vnd.jupyter.widget-view+json": {
       "model_id": "de720712dee04ad6ba2178bad84175e5",
       "version_major": 2,
       "version_minor": 0
      },
      "text/plain": [
       "Downloading pytorch_model.bin:   0%|          | 0.00/433M [00:00<?, ?B/s]"
      ]
     },
     "metadata": {},
     "output_type": "display_data"
    }
   ],
   "source": [
    "# Requirements\n",
    "model_path =\"HOLYBOY/Sentiment_Analysis\"\n",
    "tokenizer = AutoTokenizer.from_pretrained(model_path)\n",
    "config = AutoConfig.from_pretrained(model_path)\n",
    "model = AutoModelForSequenceClassification.from_pretrained(model_path)"
   ]
  },
  {
   "cell_type": "code",
   "execution_count": 10,
   "id": "7e566f41",
   "metadata": {},
   "outputs": [],
   "source": [
    "# ---- Function to process the input and return prediction\n",
    "def sentiment_analysis(text):\n",
    "    text = preprocess(text)\n",
    "\n",
    "    encoded_input = tokenizer(text, return_tensors = \"pt\") # for PyTorch-based models\n",
    "    output = model(**encoded_input)\n",
    "    scores_ = output[0][0].detach().numpy()\n",
    "    scores_ = softmax(scores_)\n",
    "    \n",
    "    # Format output dict of scores\n",
    "    labels = [\"Negative\", \"Neutral\", \"Positive\"]\n",
    "    scores = {l:float(s) for (l,s) in zip(labels, scores_) }\n",
    "    \n",
    "    return scores"
   ]
  },
  {
   "cell_type": "code",
   "execution_count": 12,
   "id": "1efa568f",
   "metadata": {},
   "outputs": [
    {
     "name": "stdout",
     "output_type": "stream",
     "text": [
      "Running on local URL:  http://127.0.0.1:7862\n",
      "\n",
      "To create a public link, set `share=True` in `launch()`.\n"
     ]
    },
    {
     "data": {
      "text/html": [
       "<div><iframe src=\"http://127.0.0.1:7862/\" width=\"100%\" height=\"500\" allow=\"autoplay; camera; microphone; clipboard-read; clipboard-write;\" frameborder=\"0\" allowfullscreen></iframe></div>"
      ],
      "text/plain": [
       "<IPython.core.display.HTML object>"
      ]
     },
     "metadata": {},
     "output_type": "display_data"
    },
    {
     "data": {
      "text/plain": []
     },
     "execution_count": 12,
     "metadata": {},
     "output_type": "execute_result"
    }
   ],
   "source": [
    "# ---- Gradio app interface\n",
    "app = gr.Interface(fn = sentiment_analysis,\n",
    "                   inputs = gr.Textbox(\"Input Your Tweet...\"),\n",
    "                   outputs = \"label\",\n",
    "                   title = \"Sentiment Analysis For COVID19 APP\",\n",
    "                   description  = \"This App analyzes sentiment of text based on tweets about COVID-19 Vaccines using a fine-tuned distilBERT model\",\n",
    "                   interpretation = \"default\",\n",
    "                   examples = [[\"The vaccine is not good!\"]]\n",
    "                   )\n",
    "\n",
    "app.launch()"
   ]
  },
  {
   "cell_type": "code",
   "execution_count": null,
   "id": "1deb7848",
   "metadata": {},
   "outputs": [],
   "source": []
  }
 ],
 "metadata": {
  "kernelspec": {
   "display_name": "Python 3",
   "language": "python",
   "name": "python3"
  },
  "language_info": {
   "codemirror_mode": {
    "name": "ipython",
    "version": 3
   },
   "file_extension": ".py",
   "mimetype": "text/x-python",
   "name": "python",
   "nbconvert_exporter": "python",
   "pygments_lexer": "ipython3",
   "version": "3.8.8"
  }
 },
 "nbformat": 4,
 "nbformat_minor": 5
}
